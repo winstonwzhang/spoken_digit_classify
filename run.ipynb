{
  "nbformat": 4,
  "nbformat_minor": 0,
  "metadata": {
    "kernelspec": {
      "display_name": "Python 3",
      "language": "python",
      "name": "python3"
    },
    "language_info": {
      "codemirror_mode": {
        "name": "ipython",
        "version": 3
      },
      "file_extension": ".py",
      "mimetype": "text/x-python",
      "name": "python",
      "nbconvert_exporter": "python",
      "pygments_lexer": "ipython3",
      "version": "3.7.2"
    },
    "colab": {
      "name": "run.ipynb",
      "version": "0.3.2",
      "provenance": []
    }
  },
  "cells": [
    {
      "cell_type": "code",
      "metadata": {
        "id": "vnFaTtIh3UUW",
        "colab_type": "code",
        "colab": {}
      },
      "source": [
        "# allow for plotting in Jupyter notebook\n",
        "%matplotlib inline"
      ],
      "execution_count": 0,
      "outputs": []
    },
    {
      "cell_type": "code",
      "metadata": {
        "id": "djGhE0XD3UUf",
        "colab_type": "code",
        "colab": {}
      },
      "source": [
        "import os\n",
        "import time\n",
        "import numpy as np\n",
        "import pandas as pd\n",
        "import torch\n",
        "import torch.nn as nn\n",
        "import torch.utils.data\n",
        "from torch.utils.data import DataLoader, Dataset\n",
        "from torch.utils.data.sampler import SubsetRandomSampler\n",
        "import utils\n",
        "from utils import data, model"
      ],
      "execution_count": 0,
      "outputs": []
    },
    {
      "cell_type": "code",
      "metadata": {
        "id": "YLhkfp-U3UUl",
        "colab_type": "code",
        "colab": {},
        "outputId": "2723b9fe-818f-48c8-e87a-a2a5949e81e0"
      },
      "source": [
        "import importlib\n",
        "importlib.reload(utils.data)"
      ],
      "execution_count": 0,
      "outputs": [
        {
          "output_type": "execute_result",
          "data": {
            "text/plain": [
              "<module 'utils.data' from '/mnt/c/Users/Winston/Documents/code/projects/audio-digit-classify/utils/data.py'>"
            ]
          },
          "metadata": {
            "tags": []
          },
          "execution_count": 12
        }
      ]
    },
    {
      "cell_type": "code",
      "metadata": {
        "id": "oCI31Bg43UU4",
        "colab_type": "code",
        "colab": {},
        "outputId": "4d8f75ce-94ae-4c06-e7a1-9622e9ccf349"
      },
      "source": [
        "########### Hyper-parameters #####################\n",
        "device = torch.device(\"cuda:0\" if torch.cuda.is_available() else \"cpu\")\n",
        "print(device)\n",
        "lr = 1e-3\n",
        "num_epochs = 15\n",
        "batch_size = 100\n",
        "\n",
        "wav_dir = 'recordings/'\n",
        "\n",
        "########### Load data #####################\n",
        "db = data.Digit_Dataset(wav_dir)\n",
        "validation_split = .2\n",
        "shuffle_dataset = True\n",
        "random_seed = 42\n",
        "\n",
        "dataset_size = len(db.labels)\n",
        "indices = list(range(dataset_size))\n",
        "split = int(np.floor(validation_split * dataset_size))\n",
        "\n",
        "if shuffle_dataset :\n",
        "    np.random.seed(random_seed)\n",
        "    np.random.shuffle(indices)\n",
        "train_indices, val_indices = indices[split:], indices[:split]\n",
        "\n",
        "# Creating data samplers and loaders:\n",
        "train_sampler = SubsetRandomSampler(train_indices)\n",
        "valid_sampler = SubsetRandomSampler(val_indices)\n",
        "\n",
        "train_dataloader = DataLoader(dataset, batch_size=batch_size, \n",
        "                              sampler=train_sampler, num_workers=2)\n",
        "val_dataloader = DataLoader(dataset, batch_size=batch_size,\n",
        "                            sampler=valid_sampler, num_workers=2)\n",
        "\n",
        "tr_losses=[]\n",
        "losses_it=[]"
      ],
      "execution_count": 0,
      "outputs": [
        {
          "output_type": "stream",
          "text": [
            "cpu\n"
          ],
          "name": "stdout"
        }
      ]
    },
    {
      "cell_type": "code",
      "metadata": {
        "id": "CjX6xr6V3UVJ",
        "colab_type": "code",
        "colab": {}
      },
      "source": [
        "############## Initialize Weights #######################\n",
        "def init_weights(m):\n",
        "    if type(m) == nn.Linear or type(m) == nn.Conv2d:\n",
        "        torch.nn.init.xavier_uniform(m.weight)\n",
        "        m.bias.data.fill_(0.01)\n",
        "\n",
        "\n",
        "############## Main Function #######################\n",
        "def main():\n",
        "    model = BaseModel().double() # Creating the model\n",
        "    model.apply(init_weights)\n",
        "\n",
        "    #if torch.cuda.device_count() > 1:\n",
        "      #   print(\"Let's use\", torch.cuda.device_count(), \"GPUs!\")\n",
        "      #  sba = nn.DataParallel(sba)\n",
        "    model = model.to(device)\n",
        "    print(model)\n",
        "\n",
        "    criterion = nn.CrossEntropyLoss().to(device)\n",
        "    optimizer = torch.optim.Adam(model.parameters(), lr=lr, weight_decay=1e-3)\n",
        "        \n",
        "    # train!\n",
        "    train(model, criterion, optimizer)\n",
        "\n",
        "\n",
        "############ Validation function #############\n",
        "def val(model, criterion):\n",
        "    with torch.no_grad():\n",
        "        print('Validation starts !!!')\n",
        "        running_corrects = 0\n",
        "        for it,data in enumerate(val_dataloader):\n",
        "            #if it % 10 == 0:\n",
        "            #    print(it)\n",
        "            inp = data['img']\n",
        "            target = data['label']\n",
        "\n",
        "            inp = inp.double().to(device)\n",
        "            target = target.to(device)\n",
        "            model = model.to(device)\n",
        "\n",
        "            # ===================forward=====================\n",
        "            output = model(inp)\n",
        "            _, preds = torch.max(output, 1)\n",
        "            running_corrects += (preds == target.data).sum().cpu().numpy()\n",
        "\n",
        "        acc = running_corrects / len(val_indices)\n",
        "        print('Accuracy:{}'.format(acc))\n",
        "\n",
        "\n",
        "############ Training function ###################\n",
        "def train(model, criterion, optimizer):\n",
        "    print('Initial validation:')\n",
        "    val(model, criterion)\n",
        "\n",
        "    print('Training starts !!!')\n",
        "    for epoch in range(num_epochs):\n",
        "        start = time.time()\n",
        "\n",
        "        loss_it = 0.0\n",
        "\n",
        "        for it,data in enumerate(train_dataloader):\n",
        "            #if it % 10 == 0:\n",
        "            #  print(it)\n",
        "            inp = data['img']\n",
        "            target = data['label']\n",
        "\n",
        "            inp = inp.double().to(device)\n",
        "            target = target.to(device)\n",
        "            model = model.to(device)\n",
        "            # ===================forward=====================\n",
        "            output = model(inp)\n",
        "            #print(target)\n",
        "            loss = criterion(output, target)\n",
        "            #print(loss1.detach().cpu().numpy(), loss2.detach().numpy())\n",
        "            loss_it += loss.detach().cpu().numpy()\n",
        "            # ===================backward====================\n",
        "            optimizer.zero_grad()\n",
        "            loss.backward()\n",
        "            optimizer.step()\n",
        "\n",
        "        model.eval()\n",
        "\n",
        "        if (epoch+1) % 1 == 0:\n",
        "            duration = time.time() - start\n",
        "            #val_loss1, val_loss2 = val(sba,criterion)\n",
        "            print('epoch [{}/{}], Tr loss:{:.4f} Time:{:.4f}'.format(epoch+1, num_epochs, loss.detach().cpu().numpy(), duration))\n",
        "            #val_losses.append([val_loss1, val_loss2])\n",
        "            tr_losses.append(loss.detach().cpu().numpy())\n",
        "\n",
        "            tr_losses_npy = np.array(tr_losses)\n",
        "            it_losses_npy = np.array(losses_it)\n",
        "            np.save('Train_it_losses.npy',it_losses_npy)\n",
        "            np.save('Train_losses.npy',tr_losses_npy)\n",
        "\n",
        "            val(model, criterion)"
      ],
      "execution_count": 0,
      "outputs": []
    },
    {
      "cell_type": "code",
      "metadata": {
        "id": "lgYPwgJd3UVS",
        "colab_type": "code",
        "colab": {}
      },
      "source": [
        "if __name__ == \"__main__\":\n",
        "    main()"
      ],
      "execution_count": 0,
      "outputs": []
    }
  ]
}