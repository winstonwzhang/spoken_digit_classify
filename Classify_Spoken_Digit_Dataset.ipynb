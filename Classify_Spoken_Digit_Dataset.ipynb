{
  "nbformat": 4,
  "nbformat_minor": 0,
  "metadata": {
    "colab": {
      "name": "Classify_Spoken_Digit_Dataset.ipynb",
      "version": "0.3.2",
      "provenance": [],
      "collapsed_sections": []
    },
    "kernelspec": {
      "name": "python3",
      "display_name": "Python 3"
    },
    "accelerator": "GPU"
  },
  "cells": [
    {
      "cell_type": "markdown",
      "metadata": {
        "id": "xIIlS6N5AUsl",
        "colab_type": "text"
      },
      "source": [
        "**Train a CNN in Pytorch to classify spoken digits (0 - 9)**\n",
        "\n",
        "See Github repo here: https://github.com/winstonwzhang/spoken_digit_classify"
      ]
    },
    {
      "cell_type": "markdown",
      "metadata": {
        "id": "l1ANjdQ9AvGu",
        "colab_type": "text"
      },
      "source": [
        "First we install the necessary libraries and download the dataset of audio clips: https://github.com/Jakobovski/free-spoken-digit-dataset"
      ]
    },
    {
      "cell_type": "code",
      "metadata": {
        "id": "_l0zfExbVGch",
        "colab_type": "code",
        "outputId": "04d8ce95-42a2-4e72-b91f-fb90d060fdd0",
        "colab": {
          "base_uri": "https://localhost:8080/",
          "height": 345
        }
      },
      "source": [
        "# get CPU and GPU info\n",
        "! nvidia-smi\n",
        "! nproc --all"
      ],
      "execution_count": 0,
      "outputs": [
        {
          "output_type": "stream",
          "text": [
            "Sun Sep 15 18:34:36 2019       \n",
            "+-----------------------------------------------------------------------------+\n",
            "| NVIDIA-SMI 430.40       Driver Version: 418.67       CUDA Version: 10.1     |\n",
            "|-------------------------------+----------------------+----------------------+\n",
            "| GPU  Name        Persistence-M| Bus-Id        Disp.A | Volatile Uncorr. ECC |\n",
            "| Fan  Temp  Perf  Pwr:Usage/Cap|         Memory-Usage | GPU-Util  Compute M. |\n",
            "|===============================+======================+======================|\n",
            "|   0  Tesla K80           Off  | 00000000:00:04.0 Off |                    0 |\n",
            "| N/A   34C    P8    27W / 149W |      0MiB / 11441MiB |      0%      Default |\n",
            "+-------------------------------+----------------------+----------------------+\n",
            "                                                                               \n",
            "+-----------------------------------------------------------------------------+\n",
            "| Processes:                                                       GPU Memory |\n",
            "|  GPU       PID   Type   Process name                             Usage      |\n",
            "|=============================================================================|\n",
            "|  No running processes found                                                 |\n",
            "+-----------------------------------------------------------------------------+\n",
            "2\n"
          ],
          "name": "stdout"
        }
      ]
    },
    {
      "cell_type": "code",
      "metadata": {
        "id": "iCwIkIT2aBW8",
        "colab_type": "code",
        "outputId": "5a7c20de-8f15-4c6d-9ff5-2b7cceb2dff2",
        "colab": {
          "base_uri": "https://localhost:8080/",
          "height": 255
        }
      },
      "source": [
        "# install pytorch and torchaudio\n",
        "! pip install torchaudio"
      ],
      "execution_count": 0,
      "outputs": [
        {
          "output_type": "stream",
          "text": [
            "Collecting torchaudio\n",
            "\u001b[?25l  Downloading https://files.pythonhosted.org/packages/1a/57/304a22c70b33617334ff4361a82af5059c3adbb842d203e116a468277c11/torchaudio-0.3.0-cp36-cp36m-manylinux1_x86_64.whl (2.6MB)\n",
            "\u001b[K     |████████████████████████████████| 2.6MB 6.4MB/s \n",
            "\u001b[?25hCollecting torch==1.2.0 (from torchaudio)\n",
            "\u001b[?25l  Downloading https://files.pythonhosted.org/packages/30/57/d5cceb0799c06733eefce80c395459f28970ebb9e896846ce96ab579a3f1/torch-1.2.0-cp36-cp36m-manylinux1_x86_64.whl (748.8MB)\n",
            "\u001b[K     |████████████████████████████████| 748.9MB 18kB/s \n",
            "\u001b[?25hRequirement already satisfied: numpy in /usr/local/lib/python3.6/dist-packages (from torch==1.2.0->torchaudio) (1.16.5)\n",
            "Installing collected packages: torch, torchaudio\n",
            "  Found existing installation: torch 1.1.0\n",
            "    Uninstalling torch-1.1.0:\n",
            "      Successfully uninstalled torch-1.1.0\n",
            "Successfully installed torch-1.2.0 torchaudio-0.3.0\n"
          ],
          "name": "stdout"
        }
      ]
    },
    {
      "cell_type": "code",
      "metadata": {
        "id": "GR1hxeVV3Q3A",
        "colab_type": "code",
        "colab": {}
      },
      "source": [
        "# plot inline\n",
        "%matplotlib inline"
      ],
      "execution_count": 0,
      "outputs": []
    },
    {
      "cell_type": "code",
      "metadata": {
        "id": "83xSb9YNMhC7",
        "colab_type": "code",
        "outputId": "1ad0340e-be11-41df-f628-0424fd0087de",
        "colab": {
          "base_uri": "https://localhost:8080/",
          "height": 108
        }
      },
      "source": [
        "# get training data\n",
        "! git clone https://github.com/Jakobovski/free-spoken-digit-dataset"
      ],
      "execution_count": 0,
      "outputs": [
        {
          "output_type": "stream",
          "text": [
            "Cloning into 'free-spoken-digit-dataset'...\n",
            "remote: Enumerating objects: 3157, done.\u001b[K\n",
            "remote: Total 3157 (delta 0), reused 0 (delta 0), pack-reused 3157\u001b[K\n",
            "Receiving objects: 100% (3157/3157), 23.91 MiB | 16.85 MiB/s, done.\n",
            "Resolving deltas: 100% (69/69), done.\n"
          ],
          "name": "stdout"
        }
      ]
    },
    {
      "cell_type": "code",
      "metadata": {
        "id": "_weIJpsySawt",
        "colab_type": "code",
        "colab": {}
      },
      "source": [
        "# ignore warnings\n",
        "import warnings\n",
        "warnings.filterwarnings(\"ignore\")"
      ],
      "execution_count": 0,
      "outputs": []
    },
    {
      "cell_type": "markdown",
      "metadata": {
        "id": "HDfU3JZPB5r0",
        "colab_type": "text"
      },
      "source": [
        "Next we start defining the hyperparameters necessary for data preprocessing:"
      ]
    },
    {
      "cell_type": "code",
      "metadata": {
        "id": "Zr7se8ryCBzS",
        "colab_type": "code",
        "colab": {}
      },
      "source": [
        "import os\n",
        "import math\n",
        "import time\n",
        "import random\n",
        "import numpy as np\n",
        "import pandas as pd\n",
        "import matplotlib.pyplot as plt\n",
        "import librosa\n",
        "import librosa.display\n",
        "import librosa.effects\n",
        "import torch\n",
        "import torchaudio\n",
        "from torch.utils.data import Dataset, DataLoader\n",
        "import torch.nn as nn"
      ],
      "execution_count": 0,
      "outputs": []
    },
    {
      "cell_type": "code",
      "metadata": {
        "id": "RjhzCMECCN3l",
        "colab_type": "code",
        "colab": {}
      },
      "source": [
        "# default data hyperparameters\n",
        "class conf:\n",
        "    sr = 8000  # sampling rate\n",
        "    duration = 2.3  # how long input samples are in seconds\n",
        "    hop_length = int(sr * 0.0115)  # step size half of frame\n",
        "    fmin = 0.0\n",
        "    fmax = 22050.0  # freq range of human speech\n",
        "    n_mels = 25  # number of mfcc coefficients\n",
        "    n_fft = int(sr * 0.023)  # frames of 0.023 sec\n",
        "    padmode = 'constant'\n",
        "    samples = sr * duration  # length of input samples in array size\n",
        "    aug_probs = {'noise': 0.7,\n",
        "                 'pitch': 0.3,\n",
        "                 'speed': 0.7,\n",
        "                 'shift': 0.8}  # prob of augment being applied"
      ],
      "execution_count": 0,
      "outputs": []
    },
    {
      "cell_type": "markdown",
      "metadata": {
        "id": "8hjfiL_OCju9",
        "colab_type": "text"
      },
      "source": [
        "We want to use some simple audio augmentations to increase the effective size of our training set. Here the data augmentation class has noise addition, pitch shift, and time shift augmentations, implemented using the librosa library.\n",
        "\n",
        "\n",
        "Each augmentation has a certain probability of being applied to an audio clip that is specified in the hyperparameter dict \"aug_probs\"."
      ]
    },
    {
      "cell_type": "code",
      "metadata": {
        "id": "_R6bmMcFC3XF",
        "colab_type": "code",
        "colab": {}
      },
      "source": [
        "class Transform:\n",
        "    '''Audio data augmentation class.'''\n",
        "    def __init__(self, conf, wav):\n",
        "        self.wav = wav\n",
        "        self.conf = conf\n",
        "    \n",
        "    def run_transforms(self):\n",
        "        x = self.wav\n",
        "        if random.uniform(0, 1) < self.conf.aug_probs['pitch']:\n",
        "            x = self.pitch_shift(x)\n",
        "        if random.uniform(0, 1) < self.conf.aug_probs['speed']:\n",
        "            x = self.speed_change(x)\n",
        "        return x\n",
        "    \n",
        "    def add_noise(self, wav):\n",
        "        if random.uniform(0, 1) < self.conf.aug_probs['noise']:\n",
        "            noise = np.random.normal(size=len(wav))\n",
        "            factor = 0.005 * random.uniform(0, 1) * max(wav)\n",
        "            return wav + factor * noise\n",
        "        else:\n",
        "            return wav\n",
        "    \n",
        "    def pitch_shift(self, wav):\n",
        "        pitch_pm = 2\n",
        "        pitch_change = pitch_pm * 2 * random.uniform(0, 1)\n",
        "        return librosa.effects.pitch_shift(\n",
        "            wav, self.conf.sr, n_steps=pitch_change)\n",
        "    \n",
        "    def speed_change(self, wav):\n",
        "        factor = np.random.normal(1, 0.2, 1)\n",
        "        tmp = librosa.effects.time_stretch(wav, factor)\n",
        "        minlen = min(wav.shape[0], tmp.shape[0])\n",
        "        wav += 0\n",
        "        wav[0:minlen] = tmp[0:minlen]\n",
        "        return wav"
      ],
      "execution_count": 0,
      "outputs": []
    },
    {
      "cell_type": "markdown",
      "metadata": {
        "id": "4Mvnusw7DfZi",
        "colab_type": "text"
      },
      "source": [
        "Inputs to the CNN must be constant, so clips shorter than the length we decided (2.3 seconds) must be padded with zeros to be consistent.\n",
        "\n",
        "Here is another chance for data augmentation - we vary the amount of zeros padded on both sides, so the section of audio that contains the spoken digit will be shifted left and right randomly. This way, the CNN will not only see inputs with speech centered in the middle of the entire 2.3 seconds."
      ]
    },
    {
      "cell_type": "code",
      "metadata": {
        "id": "iSdf2rmZEIwy",
        "colab_type": "code",
        "colab": {}
      },
      "source": [
        "def pad_audio(conf, audio, transform):\n",
        "    # pad or cut audio to same length as conf.samples\n",
        "    if len(audio) > conf.samples:\n",
        "        audio = audio[0:0+conf.samples]\n",
        "    elif len(audio) < conf.samples: # pad blank\n",
        "        padding = conf.samples - len(audio)    # add padding at both ends\n",
        "        if transform and random.uniform(0, 1) < conf.aug_probs['shift']:\n",
        "            offset = random.randint(0, padding)\n",
        "        else:\n",
        "            offset = math.ceil(padding // 2)\n",
        "        # random shift of audio (speech not always in center of spectrogram)\n",
        "        padwidth = (offset, math.ceil(padding - offset))\n",
        "        audio = np.pad(audio, padwidth, conf.padmode)\n",
        "    return audio"
      ],
      "execution_count": 0,
      "outputs": []
    },
    {
      "cell_type": "markdown",
      "metadata": {
        "id": "r3hlqQnTEj8_",
        "colab_type": "text"
      },
      "source": [
        "Some functions for extracting and visualizing the Mel-Frequency Cepstrum Coefficients (MFCCs) that we will be using as feature inputs to the CNN.\n",
        "\n",
        "These speech features are commonly used in the speech analysis field. They capture sound characteristics on frequencies familiar to the human ear. Detailed explanation: http://practicalcryptography.com/miscellaneous/machine-learning/guide-mel-frequency-cepstral-coefficients-mfccs/"
      ]
    },
    {
      "cell_type": "code",
      "metadata": {
        "id": "ZGL9inaZFKUL",
        "colab_type": "code",
        "colab": {}
      },
      "source": [
        "def audio_to_mfcc(conf, audio):\n",
        "    spectrogram = librosa.feature.mfcc(audio, \n",
        "                                       sr=conf.sr,\n",
        "                                       n_mfcc=conf.n_mels,\n",
        "                                       hop_length=conf.hop_length,\n",
        "                                       n_fft=conf.n_fft,\n",
        "                                       fmin=conf.fmin,\n",
        "                                       fmax=conf.fmax)\n",
        "    spectrogram = spectrogram.astype(np.float32)\n",
        "    return spectrogram\n",
        "\n",
        "def show_mfcc(conf, mels, title='MFCC'):\n",
        "    librosa.display.specshow(mels,\n",
        "                             x_axis='time',\n",
        "                             sr=conf.sr,\n",
        "                             hop_length=conf.hop_length)\n",
        "    plt.colorbar(format='%+2.0f dB')\n",
        "    plt.title(title)\n",
        "    plt.tight_layout()\n",
        "    plt.show()"
      ],
      "execution_count": 0,
      "outputs": []
    },
    {
      "cell_type": "markdown",
      "metadata": {
        "id": "DaKyGRhnFN3A",
        "colab_type": "text"
      },
      "source": [
        "Now let's put everything together! This function will:\n",
        "- load the .wav audio file\n",
        "- apply data augmentations to the raw audio\n",
        "- pad with zeros\n",
        "- add gaussian noise\n",
        "- convert the augmented result into MFCCs."
      ]
    },
    {
      "cell_type": "code",
      "metadata": {
        "id": "h1S_4NytFtwY",
        "colab_type": "code",
        "colab": {}
      },
      "source": [
        "def read_as_mfcc(conf, pathname, transform):\n",
        "  \n",
        "    # librosa slow to load on Colab for some reason\n",
        "    x, _ = torchaudio.load(pathname)\n",
        "    x = x[0, :].detach().numpy()\n",
        "    \n",
        "    # apply audio data augmentations (pitch, speed)\n",
        "    if transform:\n",
        "        tr = Transform(conf, x)\n",
        "        x = tr.run_transforms()\n",
        "        \n",
        "    # padding for uniform input length\n",
        "    x = pad_audio(conf, x, transform)\n",
        "    \n",
        "    # add noise to simulate realistic conditions\n",
        "    if transform:\n",
        "        x = tr.add_noise(x)\n",
        "        \n",
        "    # get mfccs\n",
        "    mfcc = audio_to_mfcc(conf, x)\n",
        "    \n",
        "    # show_mfcc(conf, mfcc)\n",
        "    return mfcc"
      ],
      "execution_count": 0,
      "outputs": []
    },
    {
      "cell_type": "markdown",
      "metadata": {
        "id": "GCrRXLxAFw_W",
        "colab_type": "text"
      },
      "source": [
        "Here we define the Pytorch Dataset class that will apply the above transformations to every .wav file that the CNN wants to use.\n",
        "\n",
        "The resultant MFCC features are also normalized to center around zero within each individual coefficient before being sent to the network. This can reduce the variation between recording conditions between different .wav files."
      ]
    },
    {
      "cell_type": "code",
      "metadata": {
        "id": "sJfMRiZNS7pW",
        "colab_type": "code",
        "colab": {}
      },
      "source": [
        "class Digit_Dataset(Dataset):\n",
        "    '''Dataset class that pads and converts a sample into mfcc.'''\n",
        "    def __init__(self, wav_dir, transform=True):\n",
        "        self.wav_dir = wav_dir\n",
        "        self.data = os.listdir(wav_dir)\n",
        "        # keep only .wav files\n",
        "        self.data = [s for s in self.data if '.wav' in s]\n",
        "        self.labels = [int(s[0]) for s in self.data]\n",
        "        self.transform = transform\n",
        "          \n",
        "    def __len__(self):\n",
        "        return len(self.data)\n",
        "\n",
        "    def __getitem__(self, idx):\n",
        "        with torch.no_grad():\n",
        "            wav_name = self.data[idx]\n",
        "            label = self.labels[idx]\n",
        "\n",
        "            mfcc_data = read_as_mfcc(\n",
        "                conf, self.wav_dir + wav_name, self.transform)\n",
        "            \n",
        "            # normalize mfcc coefficients within each sample\n",
        "            mfcc_mean = np.mean(mfcc_data, axis=1)\n",
        "            mfcc_std = np.std(mfcc_data, axis=1)\n",
        "            \n",
        "            # broadcast across all time frames\n",
        "            mfcc_mean = mfcc_mean[:, np.newaxis]\n",
        "            mfcc_std = mfcc_std[:, np.newaxis]\n",
        "            mfcc_data = (mfcc_data - mfcc_mean) / mfcc_std\n",
        "            \n",
        "            img = torch.from_numpy(mfcc_data)\n",
        "            img = img.unsqueeze_(0) # add singleton dimension\n",
        "\n",
        "            sample = {'img': img, 'label': label}\n",
        "\n",
        "            return sample\n",
        "    \n",
        "    def visualize_labels(self, transform=True):\n",
        "        for i in range(4):\n",
        "            idx = self.labels.index(i)\n",
        "            mfcc = read_as_mfcc(conf, self.wav_dir + self.data[idx], transform)\n",
        "            plt.subplot(2, 2, i+1)\n",
        "            librosa.display.specshow(mfcc,\n",
        "                                     x_axis='time',\n",
        "                                     sr=conf.sr,\n",
        "                                     hop_length=conf.hop_length)\n",
        "            plt.colorbar(format='%+2.0f dB')\n",
        "            plt.title(str(i))\n",
        "        plt.tight_layout()\n",
        "        plt.show()"
      ],
      "execution_count": 0,
      "outputs": []
    },
    {
      "cell_type": "markdown",
      "metadata": {
        "id": "PAaV7auRGxcu",
        "colab_type": "text"
      },
      "source": [
        "Let's visualize the input MFCC features! We will compare MFCCs that have been augmented, and MFCCs that are directly extracted from original audio.\n",
        "\n",
        "Our validation inputs will not have data augmentation, since we want an unbiased estimate of our model's performance on the original data."
      ]
    },
    {
      "cell_type": "markdown",
      "metadata": {
        "id": "mkCw6YLWIVxb",
        "colab_type": "text"
      },
      "source": [
        "The MFCC feature maps are 25 by 200 in size.\n",
        "\n",
        "25 - number of MFCCs extracted per frame\n",
        "\n",
        "200 - number of 0.023 second frames within 2.3 seconds (frame hop is 0.0115 seconds, so a total of 200 frames)"
      ]
    },
    {
      "cell_type": "code",
      "metadata": {
        "id": "CogxG8nm6Zpj",
        "colab_type": "code",
        "outputId": "1d97e2ef-558c-49d3-9911-433a9c90c134",
        "colab": {
          "base_uri": "https://localhost:8080/",
          "height": 297
        }
      },
      "source": [
        "wav_dir = 'free-spoken-digit-dataset/recordings/'\n",
        "\n",
        "train_db = Digit_Dataset(wav_dir, transform=True)\n",
        "val_db = Digit_Dataset(wav_dir, transform=False)\n",
        "\n",
        "train_db.visualize_labels(transform=True)"
      ],
      "execution_count": 0,
      "outputs": [
        {
          "output_type": "display_data",
          "data": {
            "image/png": "[encoded data removed]",
            "text/plain": [
              "<Figure size 432x288 with 8 Axes>"
            ]
          },
          "metadata": {
            "tags": []
          }
        }
      ]
    },
    {
      "cell_type": "code",
      "metadata": {
        "id": "vdi-UNja9bI6",
        "colab_type": "code",
        "outputId": "d054549a-5f0a-4748-cde2-856095941b81",
        "colab": {
          "base_uri": "https://localhost:8080/",
          "height": 297
        }
      },
      "source": [
        "val_db.visualize_labels(transform=False)"
      ],
      "execution_count": 0,
      "outputs": [
        {
          "output_type": "display_data",
          "data": {
            "image/png": "[encoded data removed]",
            "text/plain": [
              "<Figure size 432x288 with 8 Axes>"
            ]
          },
          "metadata": {
            "tags": []
          }
        }
      ]
    },
    {
      "cell_type": "markdown",
      "metadata": {
        "id": "8JWHb8EyHqzt",
        "colab_type": "text"
      },
      "source": [
        "Our data preprocessing is done! Now we define the model architecture:"
      ]
    },
    {
      "cell_type": "code",
      "metadata": {
        "id": "uvmGZlkVUUm9",
        "colab_type": "code",
        "colab": {}
      },
      "source": [
        "import torch\n",
        "import torch.nn as nn\n",
        "import torch.nn.functional as F\n",
        "import numpy as np\n",
        "\n",
        "\n",
        "class BaseModel(nn.Module):\n",
        "  '''Main neural net model.'''\n",
        "  def __init__(self):\n",
        "    super(BaseModel, self).__init__()\n",
        "    self.conv1 = nn.Conv2d(in_channels=1, out_channels=24, kernel_size=3)\n",
        "    self.bn1 = nn.BatchNorm2d(24)\n",
        "    self.pool1 = nn.MaxPool2d(kernel_size=(1, 2))\n",
        "    \n",
        "    self.conv2 = nn.Conv2d(in_channels=24, out_channels=48, kernel_size=3)\n",
        "    self.conv2o = nn.Conv2d(in_channels=48, out_channels=24, kernel_size=1)\n",
        "    self.bn2 = nn.BatchNorm2d(24)\n",
        "    self.pool2 = nn.MaxPool2d(kernel_size=(1, 2))\n",
        "    \n",
        "    self.conv3 = nn.Conv2d(in_channels=24, out_channels=48, kernel_size=3)\n",
        "    self.conv3o = nn.Conv2d(in_channels=48, out_channels=24, kernel_size=1)\n",
        "    self.bn3 = nn.BatchNorm2d(24)\n",
        "    self.pool3 = nn.MaxPool2d(kernel_size=(2, 2))\n",
        "    \n",
        "    self.drop1 = nn.Dropout(p=0.2)\n",
        "    self.fc1 = nn.Linear(in_features=4968, out_features=1024)\n",
        "    self.drop2 = nn.Dropout(p=0.2)\n",
        "    self.fc2 = nn.Linear(in_features=1024, out_features=64)\n",
        "    self.fc3 = nn.Linear(in_features=64, out_features=10)\n",
        "\n",
        "  def forward(self, x):\n",
        "    \n",
        "    x = F.relu(self.conv1(x))\n",
        "    x = self.pool1(self.bn1(x))\n",
        "    \n",
        "    x = F.relu(self.conv2(x))\n",
        "    x = F.relu(self.conv2o(x))\n",
        "    x = self.pool2(self.bn2(x))\n",
        "    \n",
        "    x = F.relu(self.conv3(x))\n",
        "    x = F.relu(self.conv3o(x))\n",
        "    x = self.pool3(self.bn3(x))\n",
        "    \n",
        "    x = torch.flatten(x, start_dim=1)\n",
        "    \n",
        "    x = self.drop1(x)\n",
        "    x = F.relu(self.fc1(x))\n",
        "    \n",
        "    x = self.drop2(x)\n",
        "    x = F.relu(self.fc2(x))\n",
        "    \n",
        "    x = self.fc3(x)\n",
        "    return x"
      ],
      "execution_count": 0,
      "outputs": []
    },
    {
      "cell_type": "markdown",
      "metadata": {
        "id": "NxS0IE_mHws8",
        "colab_type": "text"
      },
      "source": [
        "I decided on three convolutional layers and three fully connected layers, with batch norm and max pooling between conv layers and dropout between the linear layers.\n",
        "\n",
        "The input images are small in dimension, so I used 3x3 convolutions to capture the small variations in MFCC channels.\n",
        "\n",
        "I used 1x2 max pooling since our y-axis dimension is only 25 - too much pooling, and a lot of information would be lost!\n",
        "\n",
        "I also used 1x1 convolutions to reduce the number of channels between successive layers. This helps reduce the number of parameters that needs to be learned, and also prevents the fully connected layers from having hundreds of thousands of parameters! It can help make the network light-weight and easier to train.\n",
        "\n",
        "This technique has been widely used in recent models for managing the large number of parameters that will result from convolution layers."
      ]
    },
    {
      "cell_type": "code",
      "metadata": {
        "id": "6dQg41DYKXll",
        "colab_type": "code",
        "colab": {}
      },
      "source": [
        "import torch.utils.data\n",
        "from torch.utils.data import DataLoader, Dataset\n",
        "from torch.utils.data.sampler import SubsetRandomSampler"
      ],
      "execution_count": 0,
      "outputs": []
    },
    {
      "cell_type": "markdown",
      "metadata": {
        "id": "01KMe8x5KcBZ",
        "colab_type": "text"
      },
      "source": [
        "Let's begin the training process by defining more hyperparameters:"
      ]
    },
    {
      "cell_type": "code",
      "metadata": {
        "id": "dhwAIC9bKghg",
        "colab_type": "code",
        "outputId": "7fdda3c2-145f-4742-a10f-fde50164dbb1",
        "colab": {
          "base_uri": "https://localhost:8080/",
          "height": 35
        }
      },
      "source": [
        "########### Hyper-parameters #####################\n",
        "class hp:\n",
        "    device = torch.device(\"cuda:0\" if torch.cuda.is_available() else \"cpu\")\n",
        "    lr = 3e-4  # learning rate\n",
        "    num_epochs = 50\n",
        "    batch_size = 50\n",
        "    validation_split = .2\n",
        "    shuffle_dataset = True\n",
        "    random_seed = 42\n",
        "    num_w = 8  # number of parallel workers\n",
        "    weight_decay = 1e-3\n",
        "\n",
        "print(hp.device)\n",
        "\n",
        "save_path = 'fsdd_cnn_sdict.pt'"
      ],
      "execution_count": 0,
      "outputs": [
        {
          "output_type": "stream",
          "text": [
            "cuda:0\n"
          ],
          "name": "stdout"
        }
      ]
    },
    {
      "cell_type": "markdown",
      "metadata": {
        "id": "3cZtpwX-KrTw",
        "colab_type": "text"
      },
      "source": [
        "We divide the dataset randomly into three parts: train, validation, and test.\n",
        "\n",
        "Training contains 80% of data, validation 10%, and testing 10%. \n",
        "\n",
        "Validation set is used for evaluating which training epoch performed the best and to check for overfitting or underfitting. Because of this, validation set cannot be used for final test results, as that would possibly result in data leakage."
      ]
    },
    {
      "cell_type": "code",
      "metadata": {
        "id": "7bBy22A0LJdD",
        "colab_type": "code",
        "colab": {}
      },
      "source": [
        "dataset_size = len(train_db.labels)\n",
        "indices = list(range(dataset_size))\n",
        "split = int(np.floor(hp.validation_split * dataset_size))\n",
        "\n",
        "if hp.shuffle_dataset :\n",
        "    np.random.seed(hp.random_seed)\n",
        "    np.random.shuffle(indices)\n",
        "\n",
        "train_indices, val_indices = indices[split:], indices[:split]\n",
        "test_indices = val_indices[:len(val_indices) // 2]\n",
        "val_indices = val_indices[len(val_indices) // 2:]  # split into val and test\n",
        "\n",
        "num_train = len(train_indices)\n",
        "num_val = len(val_indices)\n",
        "num_test = len(test_indices)\n",
        "\n",
        "# Creating data samplers and loaders:\n",
        "train_sampler = SubsetRandomSampler(train_indices)\n",
        "valid_sampler = SubsetRandomSampler(val_indices)\n",
        "test_sampler = SubsetRandomSampler(test_indices)\n",
        "\n",
        "train_dataloader = DataLoader(train_db, batch_size=hp.batch_size, \n",
        "                              sampler=train_sampler, num_workers=hp.num_w)\n",
        "val_dataloader = DataLoader(val_db, batch_size=hp.batch_size,\n",
        "                            sampler=valid_sampler, num_workers=hp.num_w)\n",
        "test_dataloader = DataLoader(val_db, batch_size=hp.batch_size,\n",
        "                            sampler=test_sampler, num_workers=hp.num_w)"
      ],
      "execution_count": 0,
      "outputs": []
    },
    {
      "cell_type": "markdown",
      "metadata": {
        "id": "oIuyxS_kLPN_",
        "colab_type": "text"
      },
      "source": [
        "Define the training and validation functions. We will use Cross Entropy loss function for this multiclass classification problem, and Adam learning rate optimizer.\n",
        "\n"
      ]
    },
    {
      "cell_type": "code",
      "metadata": {
        "id": "0yjt9MxVjX8o",
        "colab_type": "code",
        "colab": {}
      },
      "source": [
        "############## Initialize Weights #######################\n",
        "def init_weights(m):\n",
        "    if type(m) == nn.Linear or type(m) == nn.Conv2d:\n",
        "        torch.nn.init.xavier_uniform(m.weight)\n",
        "        m.bias.data.fill_(0.01)\n",
        "\n",
        "\n",
        "############## Main Function #######################\n",
        "def run():\n",
        "    model = BaseModel().double() # Creating the model\n",
        "    model.apply(init_weights)\n",
        "\n",
        "    model = model.to(hp.device)\n",
        "\n",
        "    criterion = nn.CrossEntropyLoss().to(hp.device)\n",
        "    optimizer = torch.optim.Adam(model.parameters(),\n",
        "                                 lr=hp.lr,\n",
        "                                 weight_decay=hp.weight_decay)\n",
        "        \n",
        "    # train!\n",
        "    result = train(model, criterion, optimizer)\n",
        "    print(result)\n",
        "    # test\n",
        "    print('Testing starts !!!')\n",
        "    test_acc, test_loss = val(model, criterion, test_dataloader)\n",
        "    print('test_acc:{}, test_loss:{}'.format(test_acc, test_loss))\n",
        "\n",
        "\n",
        "############ Validation function #############\n",
        "def val(model, criterion, dl):\n",
        "    with torch.no_grad():\n",
        "      \n",
        "        print('Validation starts !!!')\n",
        "        \n",
        "        running_corrects = 0\n",
        "        loss_sum = 0.0\n",
        "        \n",
        "        for it, data in enumerate(dl):\n",
        "            #if it % 10 == 0:\n",
        "            #    print(it)\n",
        "            inp = data['img']\n",
        "            target = data['label']\n",
        "\n",
        "            inp = inp.double().to(hp.device)\n",
        "            target = target.to(hp.device)\n",
        "            model = model.to(hp.device)\n",
        "\n",
        "            # ===================forward=====================\n",
        "            output = model(inp)\n",
        "            loss = criterion(output, target)\n",
        "            loss_sum += loss.item()\n",
        "            _, preds = torch.max(output, 1)\n",
        "            running_corrects += (preds == target.data).sum().cpu().numpy()\n",
        "\n",
        "        acc = running_corrects / num_val\n",
        "        loss_sum = loss_sum / len(dl)\n",
        "        print('Accuracy:{0}, Loss:{1}'.format(acc, loss_sum))\n",
        "        return acc, loss_sum\n",
        "\n",
        "\n",
        "############ Training function ###################\n",
        "def train(model, criterion, optimizer):\n",
        "    print('Initial validation:')\n",
        "    val(model, criterion, val_dataloader)\n",
        "\n",
        "    print('Training starts !!!')\n",
        "    tr_losses=[]\n",
        "    tr_accs = []\n",
        "    val_losses=[]\n",
        "    val_accs = []\n",
        "    best_epoch = 0\n",
        "    best_acc = 0.0\n",
        "    \n",
        "    for epoch in range(hp.num_epochs):\n",
        "        start = time.time()\n",
        "        \n",
        "        model.train()  # train mode\n",
        "\n",
        "        running_corrects = 0\n",
        "        loss_sum = 0.0\n",
        "\n",
        "        for it,data in enumerate(train_dataloader):\n",
        "            #if it % 10 == 0:\n",
        "            #  print(it)\n",
        "            inp = data['img']\n",
        "            target = data['label']\n",
        "\n",
        "            inp = inp.double().to(hp.device)\n",
        "            target = target.to(hp.device)\n",
        "            model = model.to(hp.device)\n",
        "            # ===================forward=====================\n",
        "            output = model(inp)\n",
        "            loss = criterion(output, target)\n",
        "            loss_sum += loss.item()\n",
        "            _, preds = torch.max(output, 1)\n",
        "            running_corrects += (preds == target.data).sum().cpu().numpy()\n",
        "            # ===================backward====================\n",
        "            optimizer.zero_grad()\n",
        "            loss.backward()\n",
        "            optimizer.step()\n",
        "\n",
        "        model.eval()  # eval mode\n",
        "        \n",
        "        duration = time.time() - start\n",
        "        loss_sum = loss_sum / len(train_dataloader)\n",
        "        tr_acc = running_corrects / num_train\n",
        "        print('epoch [{}/{}], Tr loss:{:.4f} Tr Acc:{:.4f} Time:{:.4f}'.format(\n",
        "            epoch+1, hp.num_epochs, loss_sum, tr_acc, duration))\n",
        "        tr_losses.append(loss_sum)\n",
        "        tr_accs.append(tr_acc)\n",
        "\n",
        "        val_acc, val_loss = val(model, criterion, val_dataloader)\n",
        "        val_accs.append(val_acc)\n",
        "        val_losses.append(val_loss)\n",
        "    \n",
        "        if val_acc > best_acc:\n",
        "            best_acc = val_acc\n",
        "            best_epoch = epoch + 1\n",
        "            # save model\n",
        "            torch.save(model.state_dict(), save_path)\n",
        "    \n",
        "    # save accs and loss\n",
        "    np.save('tr_accs.npy', np.array(tr_accs))\n",
        "    np.save('val_accs.npy', np.array(val_accs))\n",
        "    np.save('train_losses.npy', np.array(tr_losses))\n",
        "    np.save('val_losses.npy', np.array(val_losses))\n",
        "    \n",
        "    return {'best_epoch': best_epoch, 'best_acc': best_acc}"
      ],
      "execution_count": 0,
      "outputs": []
    },
    {
      "cell_type": "markdown",
      "metadata": {
        "id": "9tZ5f3G7LrpP",
        "colab_type": "text"
      },
      "source": [
        "Time to train!"
      ]
    },
    {
      "cell_type": "code",
      "metadata": {
        "id": "YbfK7shoT_7A",
        "colab_type": "code",
        "outputId": "efd08fa5-3ec2-4072-b23c-d53873c88ed1",
        "colab": {
          "base_uri": "https://localhost:8080/",
          "height": 1000
        }
      },
      "source": [
        "run()"
      ],
      "execution_count": 0,
      "outputs": [
        {
          "output_type": "stream",
          "text": [
            "Initial validation:\n",
            "Validation starts !!!\n",
            "Accuracy:0.065, Loss:4.6204608105015685\n",
            "Training starts !!!\n",
            "epoch [1/50], Tr loss:2.6016 Tr Acc:0.1281 Time:30.6067\n",
            "Validation starts !!!\n",
            "Accuracy:0.235, Loss:2.188315671540967\n",
            "epoch [2/50], Tr loss:2.3096 Tr Acc:0.1138 Time:29.7878\n",
            "Validation starts !!!\n",
            "Accuracy:0.225, Loss:2.179539379763033\n",
            "epoch [3/50], Tr loss:2.2843 Tr Acc:0.1319 Time:30.1319\n",
            "Validation starts !!!\n",
            "Accuracy:0.255, Loss:2.005047729328915\n",
            "epoch [4/50], Tr loss:2.2170 Tr Acc:0.1650 Time:30.0012\n",
            "Validation starts !!!\n",
            "Accuracy:0.25, Loss:1.9689487411991684\n",
            "epoch [5/50], Tr loss:2.0692 Tr Acc:0.2288 Time:30.9642\n",
            "Validation starts !!!\n",
            "Accuracy:0.375, Loss:1.6418249030927017\n",
            "epoch [6/50], Tr loss:1.8398 Tr Acc:0.3019 Time:30.0076\n",
            "Validation starts !!!\n",
            "Accuracy:0.555, Loss:1.2227676897036441\n",
            "epoch [7/50], Tr loss:1.5859 Tr Acc:0.4169 Time:30.2237\n",
            "Validation starts !!!\n",
            "Accuracy:0.68, Loss:1.0065501093486888\n",
            "epoch [8/50], Tr loss:1.3987 Tr Acc:0.4662 Time:30.5294\n",
            "Validation starts !!!\n",
            "Accuracy:0.665, Loss:0.983654159023916\n",
            "epoch [9/50], Tr loss:1.2786 Tr Acc:0.5319 Time:29.9872\n",
            "Validation starts !!!\n",
            "Accuracy:0.755, Loss:0.7570822837385347\n",
            "epoch [10/50], Tr loss:1.1877 Tr Acc:0.5737 Time:29.9278\n",
            "Validation starts !!!\n",
            "Accuracy:0.71, Loss:0.6972475241183274\n",
            "epoch [11/50], Tr loss:1.0472 Tr Acc:0.6238 Time:29.7259\n",
            "Validation starts !!!\n",
            "Accuracy:0.875, Loss:0.4130986969537432\n",
            "epoch [12/50], Tr loss:0.9285 Tr Acc:0.6594 Time:30.2449\n",
            "Validation starts !!!\n",
            "Accuracy:0.89, Loss:0.3703998633374586\n",
            "epoch [13/50], Tr loss:0.8236 Tr Acc:0.7006 Time:29.6298\n",
            "Validation starts !!!\n",
            "Accuracy:0.79, Loss:0.4424081183400138\n",
            "epoch [14/50], Tr loss:0.7973 Tr Acc:0.6906 Time:30.1112\n",
            "Validation starts !!!\n",
            "Accuracy:0.89, Loss:0.31896080110241204\n",
            "epoch [15/50], Tr loss:0.7057 Tr Acc:0.7475 Time:30.5560\n",
            "Validation starts !!!\n",
            "Accuracy:0.91, Loss:0.28445368774154123\n",
            "epoch [16/50], Tr loss:0.6132 Tr Acc:0.7719 Time:29.7553\n",
            "Validation starts !!!\n",
            "Accuracy:0.875, Loss:0.29473204563114896\n",
            "epoch [17/50], Tr loss:0.6143 Tr Acc:0.7806 Time:29.7452\n",
            "Validation starts !!!\n",
            "Accuracy:0.88, Loss:0.3080226268677151\n",
            "epoch [18/50], Tr loss:0.5761 Tr Acc:0.7931 Time:30.6926\n",
            "Validation starts !!!\n",
            "Accuracy:0.865, Loss:0.34244379950113046\n",
            "epoch [19/50], Tr loss:0.5488 Tr Acc:0.7981 Time:30.0217\n",
            "Validation starts !!!\n",
            "Accuracy:0.935, Loss:0.21787023320655738\n",
            "epoch [20/50], Tr loss:0.4748 Tr Acc:0.8394 Time:29.7510\n",
            "Validation starts !!!\n",
            "Accuracy:0.92, Loss:0.1966535079182128\n",
            "epoch [21/50], Tr loss:0.4965 Tr Acc:0.8263 Time:30.2000\n",
            "Validation starts !!!\n",
            "Accuracy:0.925, Loss:0.19808681114468712\n",
            "epoch [22/50], Tr loss:0.5045 Tr Acc:0.8250 Time:29.6766\n",
            "Validation starts !!!\n",
            "Accuracy:0.935, Loss:0.23736244210163598\n",
            "epoch [23/50], Tr loss:0.4443 Tr Acc:0.8344 Time:29.9646\n",
            "Validation starts !!!\n",
            "Accuracy:0.945, Loss:0.15752200749485723\n",
            "epoch [24/50], Tr loss:0.4456 Tr Acc:0.8425 Time:29.9213\n",
            "Validation starts !!!\n",
            "Accuracy:0.92, Loss:0.20391069813744156\n",
            "epoch [25/50], Tr loss:0.3812 Tr Acc:0.8656 Time:29.8558\n",
            "Validation starts !!!\n",
            "Accuracy:0.955, Loss:0.13902819865896202\n",
            "epoch [26/50], Tr loss:0.3843 Tr Acc:0.8550 Time:30.3472\n",
            "Validation starts !!!\n",
            "Accuracy:0.955, Loss:0.1619900324077753\n",
            "epoch [27/50], Tr loss:0.3585 Tr Acc:0.8794 Time:30.1778\n",
            "Validation starts !!!\n",
            "Accuracy:0.94, Loss:0.2056876156780597\n",
            "epoch [28/50], Tr loss:0.3630 Tr Acc:0.8856 Time:29.7752\n",
            "Validation starts !!!\n",
            "Accuracy:0.975, Loss:0.10121352320132614\n",
            "epoch [29/50], Tr loss:0.3694 Tr Acc:0.8694 Time:30.3609\n",
            "Validation starts !!!\n",
            "Accuracy:0.96, Loss:0.14254043303415329\n",
            "epoch [30/50], Tr loss:0.3067 Tr Acc:0.8931 Time:30.0807\n",
            "Validation starts !!!\n",
            "Accuracy:0.96, Loss:0.13034627465795173\n",
            "epoch [31/50], Tr loss:0.3008 Tr Acc:0.8881 Time:30.2848\n",
            "Validation starts !!!\n",
            "Accuracy:0.965, Loss:0.1353163774059439\n",
            "epoch [32/50], Tr loss:0.2753 Tr Acc:0.9019 Time:30.1301\n",
            "Validation starts !!!\n",
            "Accuracy:0.985, Loss:0.07135320900848122\n",
            "epoch [33/50], Tr loss:0.3209 Tr Acc:0.8875 Time:30.1853\n",
            "Validation starts !!!\n",
            "Accuracy:0.98, Loss:0.09121156871569513\n",
            "epoch [34/50], Tr loss:0.2770 Tr Acc:0.9062 Time:30.2658\n",
            "Validation starts !!!\n",
            "Accuracy:0.96, Loss:0.12306963588850718\n",
            "epoch [35/50], Tr loss:0.2788 Tr Acc:0.8969 Time:30.4447\n",
            "Validation starts !!!\n",
            "Accuracy:0.975, Loss:0.08570742551065583\n",
            "epoch [36/50], Tr loss:0.2790 Tr Acc:0.9025 Time:30.3322\n",
            "Validation starts !!!\n",
            "Accuracy:0.985, Loss:0.0954191971146664\n",
            "epoch [37/50], Tr loss:0.2771 Tr Acc:0.9100 Time:30.8128\n",
            "Validation starts !!!\n",
            "Accuracy:0.975, Loss:0.11941627884259409\n",
            "epoch [38/50], Tr loss:0.2185 Tr Acc:0.9250 Time:30.1988\n",
            "Validation starts !!!\n",
            "Accuracy:0.985, Loss:0.051464173128803505\n",
            "epoch [39/50], Tr loss:0.2429 Tr Acc:0.9125 Time:30.3769\n",
            "Validation starts !!!\n",
            "Accuracy:0.97, Loss:0.07519264817944699\n",
            "epoch [40/50], Tr loss:0.2057 Tr Acc:0.9313 Time:29.6028\n",
            "Validation starts !!!\n",
            "Accuracy:0.965, Loss:0.08245016122685346\n",
            "epoch [41/50], Tr loss:0.2669 Tr Acc:0.9019 Time:29.6508\n",
            "Validation starts !!!\n",
            "Accuracy:0.96, Loss:0.11753654933570339\n",
            "epoch [42/50], Tr loss:0.2473 Tr Acc:0.9106 Time:30.2194\n",
            "Validation starts !!!\n",
            "Accuracy:0.975, Loss:0.08276901809958427\n",
            "epoch [43/50], Tr loss:0.2425 Tr Acc:0.9181 Time:30.7877\n",
            "Validation starts !!!\n",
            "Accuracy:0.99, Loss:0.05002974551008614\n",
            "epoch [44/50], Tr loss:0.2235 Tr Acc:0.9169 Time:29.5528\n",
            "Validation starts !!!\n",
            "Accuracy:0.975, Loss:0.08643543716910648\n",
            "epoch [45/50], Tr loss:0.2471 Tr Acc:0.9225 Time:29.8534\n",
            "Validation starts !!!\n",
            "Accuracy:0.98, Loss:0.07581718131850879\n",
            "epoch [46/50], Tr loss:0.2014 Tr Acc:0.9275 Time:29.9647\n",
            "Validation starts !!!\n",
            "Accuracy:0.97, Loss:0.08327751037208969\n",
            "epoch [47/50], Tr loss:0.1986 Tr Acc:0.9344 Time:30.0340\n",
            "Validation starts !!!\n",
            "Accuracy:0.975, Loss:0.06003156297548874\n",
            "epoch [48/50], Tr loss:0.2259 Tr Acc:0.9225 Time:30.1691\n",
            "Validation starts !!!\n",
            "Accuracy:0.985, Loss:0.05742071818436869\n",
            "epoch [49/50], Tr loss:0.1833 Tr Acc:0.9344 Time:29.6952\n",
            "Validation starts !!!\n",
            "Accuracy:0.995, Loss:0.038848222005273624\n",
            "epoch [50/50], Tr loss:0.1838 Tr Acc:0.9369 Time:30.0997\n",
            "Validation starts !!!\n",
            "Accuracy:0.98, Loss:0.061167999798648565\n",
            "{'best_epoch': 49, 'best_acc': 0.995}\n",
            "Testing starts !!!\n",
            "Validation starts !!!\n",
            "Accuracy:0.97, Loss:0.04632957731302022\n",
            "test_acc:0.97, test_loss:0.04632957731302022\n"
          ],
          "name": "stdout"
        }
      ]
    },
    {
      "cell_type": "markdown",
      "metadata": {
        "id": "ebERiYPdLvto",
        "colab_type": "text"
      },
      "source": [
        "Plot loss and accuracy curves:"
      ]
    },
    {
      "cell_type": "code",
      "metadata": {
        "id": "PoMfM-9k3Laj",
        "colab_type": "code",
        "outputId": "558ba452-c5c2-44c3-e3e7-b8ac5a8d0d2a",
        "colab": {
          "base_uri": "https://localhost:8080/",
          "height": 295
        }
      },
      "source": [
        "import matplotlib.pyplot as plt\n",
        "\n",
        "plt.clf()\n",
        "\n",
        "train_losses = np.load('train_losses.npy')\n",
        "val_losses = np.load('val_losses.npy')\n",
        "\n",
        "plt.plot(np.arange(hp.num_epochs), train_losses, 'b', label='train')\n",
        "plt.plot(np.arange(hp.num_epochs), val_losses, 'r', label='val')\n",
        "plt.title('Loss Curve')\n",
        "plt.xlabel('epochs')\n",
        "plt.ylabel('loss')\n",
        "plt.legend()\n",
        "plt.show()"
      ],
      "execution_count": 0,
      "outputs": [
        {
          "output_type": "display_data",
          "data": {
            "image/png": "[encoded data removed]",
            "text/plain": [
              "<Figure size 432x288 with 1 Axes>"
            ]
          },
          "metadata": {
            "tags": []
          }
        }
      ]
    },
    {
      "cell_type": "code",
      "metadata": {
        "id": "6AUV7CPJKV-T",
        "colab_type": "code",
        "outputId": "168fc512-1400-4839-dd4b-928c8f4f6db8",
        "colab": {
          "base_uri": "https://localhost:8080/",
          "height": 295
        }
      },
      "source": [
        "plt.clf()\n",
        "\n",
        "tr_accs = np.load('tr_accs.npy')\n",
        "val_accs = np.load('val_accs.npy')\n",
        "\n",
        "plt.plot(np.arange(hp.num_epochs), tr_accs, 'b', label='train')\n",
        "plt.plot(np.arange(hp.num_epochs), val_accs, 'r', label='val')\n",
        "plt.title('Accuracy Curve')\n",
        "plt.xlabel('epochs')\n",
        "plt.ylabel('accuracy')\n",
        "plt.legend()\n",
        "plt.show()"
      ],
      "execution_count": 0,
      "outputs": [
        {
          "output_type": "display_data",
          "data": {
            "image/png": "[encoded data removed]",
            "text/plain": [
              "<Figure size 432x288 with 1 Axes>"
            ]
          },
          "metadata": {
            "tags": []
          }
        }
      ]
    },
    {
      "cell_type": "markdown",
      "metadata": {
        "id": "rST1DXieLzS3",
        "colab_type": "text"
      },
      "source": [
        "The training curve always performs slightly worse than validation, mostly because of the heavily augmented data we input to training. This is fine, since it signifies our model hasn't overfit."
      ]
    },
    {
      "cell_type": "markdown",
      "metadata": {
        "id": "vVIRVnGaXDO7",
        "colab_type": "text"
      },
      "source": [
        "**What's Next?**\n",
        "\n",
        "- Train network using larger number of speakers and samples like in this Kaggle competition: https://www.kaggle.com/c/tensorflow-speech-recognition-challenge\n",
        "- Apply trained model to predict speech in real time using PyAudio. Check out \"demo.py\" in my Github repository: https://github.com/winstonwzhang/spoken_digit_classify/blob/master/demo.py\n",
        "- Add noise removal and a filtering algorithm so that only clips of speech will be input for the model to classify in real time. A possibility is training an SVM to classify if a clip of sound \"looks\" like speech or not."
      ]
    },
    {
      "cell_type": "markdown",
      "metadata": {
        "id": "HsJYzXLqYfz1",
        "colab_type": "text"
      },
      "source": [
        "Thanks for checking out my demo! Please email me at wwzhang@umich.edu if you have any questions, concerns, or complaints - especially if I did or wrote something wrong in the training process. I always want to learn from my mistakes!"
      ]
    }
  ]
}